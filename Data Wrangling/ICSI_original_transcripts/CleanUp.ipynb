{
 "cells": [
  {
   "cell_type": "code",
   "execution_count": 3,
   "metadata": {},
   "outputs": [],
   "source": [
    "import pandas as pd\n",
    "import numpy as np"
   ]
  },
  {
   "cell_type": "code",
   "execution_count": 4,
   "metadata": {},
   "outputs": [],
   "source": [
    "df = pd.read_csv('/Users/natkite/Documents/courseWork/InfoVis/conversation-visualization/widgetDemo/data/Bdb001.csv')"
   ]
  },
  {
   "cell_type": "code",
   "execution_count": 5,
   "metadata": {},
   "outputs": [
    {
     "data": {
      "text/html": [
       "<div>\n",
       "<style scoped>\n",
       "    .dataframe tbody tr th:only-of-type {\n",
       "        vertical-align: middle;\n",
       "    }\n",
       "\n",
       "    .dataframe tbody tr th {\n",
       "        vertical-align: top;\n",
       "    }\n",
       "\n",
       "    .dataframe thead th {\n",
       "        text-align: right;\n",
       "    }\n",
       "</style>\n",
       "<table border=\"1\" class=\"dataframe\">\n",
       "  <thead>\n",
       "    <tr style=\"text-align: right;\">\n",
       "      <th></th>\n",
       "      <th>start</th>\n",
       "      <th>end</th>\n",
       "      <th>participant</th>\n",
       "      <th>text</th>\n",
       "    </tr>\n",
       "  </thead>\n",
       "  <tbody>\n",
       "    <tr>\n",
       "      <th>0</th>\n",
       "      <td>0.000</td>\n",
       "      <td>3.956</td>\n",
       "      <td>me018</td>\n",
       "      <td>b'\\n      '</td>\n",
       "    </tr>\n",
       "    <tr>\n",
       "      <th>1</th>\n",
       "      <td>0.056</td>\n",
       "      <td>1.861</td>\n",
       "      <td>me011</td>\n",
       "      <td>b'\\n      Yeah, we had a long discussion about...</td>\n",
       "    </tr>\n",
       "    <tr>\n",
       "      <th>2</th>\n",
       "      <td>2.674</td>\n",
       "      <td>6.315</td>\n",
       "      <td>me011</td>\n",
       "      <td>b'\\n      how much w- how easy we want to make...</td>\n",
       "    </tr>\n",
       "    <tr>\n",
       "      <th>3</th>\n",
       "      <td>5.100</td>\n",
       "      <td>7.881</td>\n",
       "      <td>me018</td>\n",
       "      <td>b'\\n      '</td>\n",
       "    </tr>\n",
       "    <tr>\n",
       "      <th>4</th>\n",
       "      <td>6.260</td>\n",
       "      <td>6.864</td>\n",
       "      <td>fe016</td>\n",
       "      <td>b'\\n      Right.\\n    '</td>\n",
       "    </tr>\n",
       "    <tr>\n",
       "      <th>...</th>\n",
       "      <td>...</td>\n",
       "      <td>...</td>\n",
       "      <td>...</td>\n",
       "      <td>...</td>\n",
       "    </tr>\n",
       "    <tr>\n",
       "      <th>1393</th>\n",
       "      <td>3014.981</td>\n",
       "      <td>3016.774</td>\n",
       "      <td>me001</td>\n",
       "      <td>b'\\n      six two six two six '</td>\n",
       "    </tr>\n",
       "    <tr>\n",
       "      <th>1394</th>\n",
       "      <td>3015.158</td>\n",
       "      <td>3015.447</td>\n",
       "      <td>mn017</td>\n",
       "      <td>b'\\n      '</td>\n",
       "    </tr>\n",
       "    <tr>\n",
       "      <th>1395</th>\n",
       "      <td>3016.774</td>\n",
       "      <td>3018.760</td>\n",
       "      <td>me001</td>\n",
       "      <td>b'\\n      seven three, zero one. '</td>\n",
       "    </tr>\n",
       "    <tr>\n",
       "      <th>1396</th>\n",
       "      <td>3020.243</td>\n",
       "      <td>3021.371</td>\n",
       "      <td>me001</td>\n",
       "      <td>b'\\n      '</td>\n",
       "    </tr>\n",
       "    <tr>\n",
       "      <th>1397</th>\n",
       "      <td>3020.591</td>\n",
       "      <td>3021.968</td>\n",
       "      <td>fe008</td>\n",
       "      <td>b'\\n      '</td>\n",
       "    </tr>\n",
       "  </tbody>\n",
       "</table>\n",
       "<p>1398 rows × 4 columns</p>\n",
       "</div>"
      ],
      "text/plain": [
       "         start       end participant  \\\n",
       "0        0.000     3.956       me018   \n",
       "1        0.056     1.861       me011   \n",
       "2        2.674     6.315       me011   \n",
       "3        5.100     7.881       me018   \n",
       "4        6.260     6.864       fe016   \n",
       "...        ...       ...         ...   \n",
       "1393  3014.981  3016.774       me001   \n",
       "1394  3015.158  3015.447       mn017   \n",
       "1395  3016.774  3018.760       me001   \n",
       "1396  3020.243  3021.371       me001   \n",
       "1397  3020.591  3021.968       fe008   \n",
       "\n",
       "                                                   text  \n",
       "0                                           b'\\n      '  \n",
       "1     b'\\n      Yeah, we had a long discussion about...  \n",
       "2     b'\\n      how much w- how easy we want to make...  \n",
       "3                                           b'\\n      '  \n",
       "4                               b'\\n      Right.\\n    '  \n",
       "...                                                 ...  \n",
       "1393                    b'\\n      six two six two six '  \n",
       "1394                                        b'\\n      '  \n",
       "1395                 b'\\n      seven three, zero one. '  \n",
       "1396                                        b'\\n      '  \n",
       "1397                                        b'\\n      '  \n",
       "\n",
       "[1398 rows x 4 columns]"
      ]
     },
     "execution_count": 5,
     "metadata": {},
     "output_type": "execute_result"
    }
   ],
   "source": [
    "df"
   ]
  },
  {
   "cell_type": "code",
   "execution_count": 7,
   "metadata": {},
   "outputs": [],
   "source": [
    "text = df[\"text\"].tolist()"
   ]
  },
  {
   "cell_type": "code",
   "execution_count": 10,
   "metadata": {},
   "outputs": [],
   "source": [
    "path = \"/Users/natkite/Documents/courseWork/InfoVis/conversation-visualization/Data Wrangling/ICSI_original_transcripts/transcripts/mrts/Bdb001.mrt\""
   ]
  },
  {
   "cell_type": "code",
   "execution_count": 11,
   "metadata": {},
   "outputs": [],
   "source": [
    "from lxml import etree"
   ]
  },
  {
   "cell_type": "code",
   "execution_count": 12,
   "metadata": {},
   "outputs": [],
   "source": [
    "tree = etree.parse(path)\n",
    "root = tree.getroot()\n",
    "transcript = root[1]"
   ]
  },
  {
   "cell_type": "code",
   "execution_count": 18,
   "metadata": {},
   "outputs": [
    {
     "data": {
      "text/plain": [
       "''"
      ]
     },
     "execution_count": 18,
     "metadata": {},
     "output_type": "execute_result"
    }
   ],
   "source": [
    "transcript[0].text.strip()"
   ]
  },
  {
   "cell_type": "code",
   "execution_count": null,
   "metadata": {},
   "outputs": [],
   "source": []
  }
 ],
 "metadata": {
  "interpreter": {
   "hash": "c6e4e9f98eb68ad3b7c296f83d20e6de614cb42e90992a65aa266555a3137d0d"
  },
  "kernelspec": {
   "display_name": "Python 3.9.12 ('base')",
   "language": "python",
   "name": "python3"
  },
  "language_info": {
   "codemirror_mode": {
    "name": "ipython",
    "version": 3
   },
   "file_extension": ".py",
   "mimetype": "text/x-python",
   "name": "python",
   "nbconvert_exporter": "python",
   "pygments_lexer": "ipython3",
   "version": "3.9.12"
  },
  "orig_nbformat": 4
 },
 "nbformat": 4,
 "nbformat_minor": 2
}
